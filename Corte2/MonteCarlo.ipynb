{
 "cells": [
  {
   "cell_type": "markdown",
   "metadata": {},
   "source": [
    "\n",
    "# Juan Felipe Osorio Franco"
   ]
  },
  {
   "cell_type": "markdown",
   "metadata": {},
   "source": [
    "\n",
    "# Ejercicio:\n",
    "\n",
    "1. Cálcule el coeficiente de desvio para los resultados obtenidos. Ver [Conceptos Teoría Detección](https://github.com/amalvarezme/AprendizajeMaquina/blob/main/4_Clasificacion_Clustering_DR/1_TeoriaDeteccion.pdf).\n",
    "\n",
    "2. Compare la capacidad de detección del estimador $\\tilde{A}=x[0]$ respecto al de media muestral $\\hat{A} = \\frac{1}{N}\\sum^N_{n=1} x[n]$.\n",
    "\n",
    "Estimador 1: sesgo = 0, Estimador 2: 0\n",
    "Varianza 1: $\\sigma^2$, Estimador 2: $\\sigma^2/N$\n",
    "\n",
    "$$mse(\\hat{\\theta})=var(\\hat{\\theta})+b^2(\\hat{\\theta})$$"
   ]
  },
  {
   "cell_type": "markdown",
   "metadata": {},
   "source": [
    "# Análisis de Teoría de Detección\n",
    "\n",
    "## Ejercicio 1: Cálculo del coeficiente de desvío\n",
    "\n",
    "De la teoría, el coeficiente de desvío se define como:\n",
    "\n",
    "$$d^2 = \\frac{(E\\{T(x);H_1\\}-E\\{T(x);H_0\\})^2}{var\\{T(x);H_0\\}}$$\n",
    "\n",
    "Para el caso de detección de nivel DC:\n",
    "- Cuando N=1: $$d^2 = \\frac{A^2}{\\sigma^2}$$\n",
    "- Cuando N=20: $$d^2 = \\frac{NA^2}{\\sigma^2}$$\n",
    "\n",
    "Calculemos usando los parámetros dados:\n",
    "- A = 1 (nivel DC)\n",
    "- σ² = 0.5 (varianza del ruido)\n",
    "\n",
    "Para N=1:\n",
    "$$d^2 = \\frac{1^2}{0.5} = 2$$\n",
    "\n",
    "Para N=20:\n",
    "$$d^2 = \\frac{20 \\cdot 1^2}{0.5} = 40$$\n",
    "\n",
    "## Ejercicio 2: Comparación de capacidad de detección de estimadores\n",
    "\n",
    "Comparemos:\n",
    "1. $\\tilde{A}=x[0]$ (muestra única)\n",
    "2. $\\hat{A} = \\frac{1}{N}\\sum^N_{n=1} x[n]$ (media muestral)\n",
    "\n",
    "Análisis usando Error Cuadrático Medio (MSE):\n",
    "$$MSE(\\hat{\\theta})=var(\\hat{\\theta})+sesgo^2(\\hat{\\theta})$$\n",
    "\n",
    "Para ambos estimadores:\n",
    "- Sesgo = 0 (ambos son estimadores insesgados)\n",
    "\n",
    "Varianzas:\n",
    "1. Estimador de muestra única: $$var(\\tilde{A}) = \\sigma^2 = 0.5$$\n",
    "2. Estimador de media muestral: $$var(\\hat{A}) = \\frac{\\sigma^2}{N} = \\frac{0.5}{20} = 0.025$$\n",
    "\n",
    "Por lo tanto:\n",
    "- MSE para muestra única: 0.5\n",
    "- MSE para media muestral: 0.025\n",
    "\n",
    "## Conclusiones:\n",
    "1. El coeficiente de desvío aumenta con N, lo que explica por qué vemos mejor separación entre hipótesis en el segundo histograma (N=20) comparado con el primero (N=1).\n",
    "2. El estimador de media muestral ($\\hat{A}$) tiene mejor desempeño que el estimador de muestra única ($\\tilde{A}$) porque:\n",
    "   - Ambos son insesgados\n",
    "   - La media muestral tiene menor varianza (0.025 vs 0.5)\n",
    "   - Un MSE menor significa mejor calidad de estimación\n",
    "   - Esta mejor estimación lleva a una mejor capacidad de detección, que se refleja en el coeficiente de desvío más alto (40 vs 2)\n",
    "\n",
    "Esto se alinea con los resultados de la simulación de Monte Carlo donde podemos ver una separación mucho mejor entre las distribuciones de \"Señal + ruido\" y \"ruido\" cuando N=20 comparado con N=1."
   ]
  }
 ],
 "metadata": {
  "language_info": {
   "name": "python"
  }
 },
 "nbformat": 4,
 "nbformat_minor": 2
}

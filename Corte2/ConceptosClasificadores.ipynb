{
  "cells": [
    {
      "cell_type": "markdown",
      "metadata": {
        "id": "0aLkpIfQno0Z"
      },
      "source": [
        "# Juan Felipe Osorio Franco"
      ]
    },
    {
      "cell_type": "markdown",
      "metadata": {
        "id": "lBSzgawnno0a"
      },
      "source": [
        "\n",
        "# Ejercicio:\n",
        "\n",
        "- Consulte en que consiste el clasificador de vecinos más cercanos en sklearn (ver [documentación knn](https://en.wikipedia.org/wiki/K-nearest_neighbors_algorithm) y [knn sklearn](https://scikit-learn.org/stable/modules/generated/sklearn.neighbors.KNeighborsClassifier.html)).\n",
        "\n",
        "- Realice una comparación entre los clasificadores SGD, RandomForest implementados en el cuaderno y Knn con distancia Euclídea de un vecino para el problema multiclase Mnist en términos de ACC, f1, y AUC."
      ]
    },
    {
      "cell_type": "code",
      "execution_count": 2,
      "metadata": {
        "colab": {
          "base_uri": "https://localhost:8080/"
        },
        "id": "-cXJUQh7no0c",
        "outputId": "edaf4d56-096b-4150-9294-459cb64a9b5d"
      },
      "outputs": [
        {
          "name": "stdout",
          "output_type": "stream",
          "text": [
            "Downloading data from https://storage.googleapis.com/tensorflow/tf-keras-datasets/mnist.npz\n",
            "\u001b[1m11490434/11490434\u001b[0m \u001b[32m━━━━━━━━━━━━━━━━━━━━\u001b[0m\u001b[37m\u001b[0m \u001b[1m0s\u001b[0m 0us/step\n",
            "\n",
            "Evaluando SGD...\n"
          ]
        },
        {
          "name": "stderr",
          "output_type": "stream",
          "text": [
            "/usr/local/lib/python3.10/dist-packages/sklearn/linear_model/_stochastic_gradient.py:744: ConvergenceWarning: Maximum number of iteration reached before convergence. Consider increasing max_iter to improve the fit.\n",
            "  warnings.warn(\n",
            "/usr/local/lib/python3.10/dist-packages/sklearn/linear_model/_stochastic_gradient.py:744: ConvergenceWarning: Maximum number of iteration reached before convergence. Consider increasing max_iter to improve the fit.\n",
            "  warnings.warn(\n",
            "/usr/local/lib/python3.10/dist-packages/sklearn/linear_model/_stochastic_gradient.py:744: ConvergenceWarning: Maximum number of iteration reached before convergence. Consider increasing max_iter to improve the fit.\n",
            "  warnings.warn(\n",
            "/usr/local/lib/python3.10/dist-packages/sklearn/linear_model/_stochastic_gradient.py:744: ConvergenceWarning: Maximum number of iteration reached before convergence. Consider increasing max_iter to improve the fit.\n",
            "  warnings.warn(\n",
            "/usr/local/lib/python3.10/dist-packages/sklearn/linear_model/_stochastic_gradient.py:744: ConvergenceWarning: Maximum number of iteration reached before convergence. Consider increasing max_iter to improve the fit.\n",
            "  warnings.warn(\n",
            "/usr/local/lib/python3.10/dist-packages/sklearn/linear_model/_stochastic_gradient.py:744: ConvergenceWarning: Maximum number of iteration reached before convergence. Consider increasing max_iter to improve the fit.\n",
            "  warnings.warn(\n",
            "/usr/local/lib/python3.10/dist-packages/sklearn/linear_model/_stochastic_gradient.py:744: ConvergenceWarning: Maximum number of iteration reached before convergence. Consider increasing max_iter to improve the fit.\n",
            "  warnings.warn(\n"
          ]
        },
        {
          "name": "stdout",
          "output_type": "stream",
          "text": [
            "\n",
            "Evaluando RandomForest...\n",
            "\n",
            "Evaluando KNN...\n",
            "\n",
            "Resultados de la comparación:\n",
            "--------------------------------------------------\n",
            "\n",
            "SGD:\n",
            "Accuracy: 0.9085\n",
            "F1-Score: 0.9083\n",
            "AUC: 0.9820\n",
            "\n",
            "RandomForest:\n",
            "Accuracy: 0.9397\n",
            "F1-Score: 0.9396\n",
            "AUC: 0.9938\n",
            "\n",
            "KNN:\n",
            "Accuracy: 0.9386\n",
            "F1-Score: 0.9385\n",
            "AUC: 0.9654\n"
          ]
        }
      ],
      "source": [
        "import numpy as np\n",
        "import tensorflow as tf\n",
        "from sklearn.linear_model import SGDClassifier\n",
        "from sklearn.ensemble import RandomForestClassifier\n",
        "from sklearn.neighbors import KNeighborsClassifier\n",
        "from sklearn.preprocessing import StandardScaler\n",
        "from sklearn.model_selection import cross_val_predict, cross_val_score\n",
        "from sklearn.metrics import accuracy_score, f1_score, roc_auc_score\n",
        "from sklearn.preprocessing import label_binarize\n",
        "\n",
        "# Preparar los datos\n",
        "(X_train, y_train), (X_test, y_test) = tf.keras.datasets.mnist.load_data()\n",
        "X = np.r_[X_train,X_test]\n",
        "y = np.r_[y_train,y_test]\n",
        "X = X/255.\n",
        "X = X.reshape(X.shape[0],-1)\n",
        "\n",
        "# Separar conjuntos de entrenamiento y prueba\n",
        "X_train, X_test = X[:60000], X[60000:]\n",
        "y_train, y_test = y[:60000], y[60000:]\n",
        "\n",
        "# Normalizar datos\n",
        "scaler = StandardScaler()\n",
        "X_train_scaled = scaler.fit_transform(X_train.astype(np.float64))\n",
        "X_test_scaled = scaler.transform(X_test.astype(np.float64))\n",
        "\n",
        "# Definir clasificadores\n",
        "classifiers = {\n",
        "    'SGD': SGDClassifier(max_iter=5, random_state=42),\n",
        "    'RandomForest': RandomForestClassifier(n_estimators=10, random_state=42),\n",
        "    'KNN': KNeighborsClassifier(n_neighbors=1)\n",
        "}\n",
        "\n",
        "# Métricas para cada clasificador\n",
        "results = {}\n",
        "\n",
        "for name, clf in classifiers.items():\n",
        "    print(f\"\\nEvaluando {name}...\")\n",
        "\n",
        "    # Entrenar el clasificador\n",
        "    clf.fit(X_train_scaled, y_train)\n",
        "\n",
        "    # Obtener predicciones usando validación cruzada\n",
        "    y_pred = cross_val_predict(clf, X_train_scaled, y_train, cv=3)\n",
        "\n",
        "    # Calcular métricas\n",
        "    acc = accuracy_score(y_train, y_pred)\n",
        "    f1 = f1_score(y_train, y_pred, average='weighted')\n",
        "\n",
        "    # Para AUC, necesitamos binarizar las etiquetas y calcular el promedio\n",
        "    y_bin = label_binarize(y_train, classes=range(10))\n",
        "    if hasattr(clf, \"decision_function\"):\n",
        "        y_scores = cross_val_predict(clf, X_train_scaled, y_train, cv=3, method=\"decision_function\")\n",
        "    else:\n",
        "        y_scores = cross_val_predict(clf, X_train_scaled, y_train, cv=3, method=\"predict_proba\")\n",
        "\n",
        "    if y_scores.ndim == 1:\n",
        "        y_scores = np.column_stack([1 - y_scores, y_scores])\n",
        "\n",
        "    # Calcular AUC promedio para todas las clases\n",
        "    auc = roc_auc_score(y_bin, y_scores, multi_class='ovr', average='macro')\n",
        "\n",
        "    results[name] = {\n",
        "        'Accuracy': acc,\n",
        "        'F1-Score': f1,\n",
        "        'AUC': auc\n",
        "    }\n",
        "\n",
        "# Mostrar resultados\n",
        "print(\"\\nResultados de la comparación:\")\n",
        "print(\"-\" * 50)\n",
        "for clf_name, metrics in results.items():\n",
        "    print(f\"\\n{clf_name}:\")\n",
        "    for metric_name, value in metrics.items():\n",
        "        print(f\"{metric_name}: {value:.4f}\")"
      ]
    }
  ],
  "metadata": {
    "colab": {
      "provenance": []
    },
    "kernelspec": {
      "display_name": "env",
      "language": "python",
      "name": "python3"
    },
    "language_info": {
      "codemirror_mode": {
        "name": "ipython",
        "version": 3
      },
      "file_extension": ".py",
      "mimetype": "text/x-python",
      "name": "python",
      "nbconvert_exporter": "python",
      "pygments_lexer": "ipython3",
      "version": "3.11.0"
    }
  },
  "nbformat": 4,
  "nbformat_minor": 0
}
